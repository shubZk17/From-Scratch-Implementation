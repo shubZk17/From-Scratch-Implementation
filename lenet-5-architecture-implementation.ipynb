{
 "cells": [
  {
   "cell_type": "code",
   "execution_count": 1,
   "id": "9829aeaf",
   "metadata": {
    "_cell_guid": "b1076dfc-b9ad-4769-8c92-a6c4dae69d19",
    "_uuid": "8f2839f25d086af736a60e9eeb907d3b93b6e0e5",
    "execution": {
     "iopub.execute_input": "2025-08-31T16:33:31.257741Z",
     "iopub.status.busy": "2025-08-31T16:33:31.257343Z",
     "iopub.status.idle": "2025-08-31T16:33:33.136398Z",
     "shell.execute_reply": "2025-08-31T16:33:33.135166Z"
    },
    "papermill": {
     "duration": 1.887757,
     "end_time": "2025-08-31T16:33:33.138053",
     "exception": false,
     "start_time": "2025-08-31T16:33:31.250296",
     "status": "completed"
    },
    "tags": []
   },
   "outputs": [
    {
     "name": "stdout",
     "output_type": "stream",
     "text": [
      "/kaggle/input/digit-recognizer/sample_submission.csv\n",
      "/kaggle/input/digit-recognizer/train.csv\n",
      "/kaggle/input/digit-recognizer/test.csv\n"
     ]
    }
   ],
   "source": [
    "# This Python 3 environment comes with many helpful analytics libraries installed\n",
    "# It is defined by the kaggle/python Docker image: https://github.com/kaggle/docker-python\n",
    "# For example, here's several helpful packages to load\n",
    "\n",
    "import numpy as np # linear algebra\n",
    "import pandas as pd # data processing, CSV file I/O (e.g. pd.read_csv)\n",
    "\n",
    "# Input data files are available in the read-only \"../input/\" directory\n",
    "# For example, running this (by clicking run or pressing Shift+Enter) will list all files under the input directory\n",
    "\n",
    "import os\n",
    "for dirname, _, filenames in os.walk('/kaggle/input'):\n",
    "    for filename in filenames:\n",
    "        print(os.path.join(dirname, filename))\n",
    "\n",
    "# You can write up to 20GB to the current directory (/kaggle/working/) that gets preserved as output when you create a version using \"Save & Run All\" \n",
    "# You can also write temporary files to /kaggle/temp/, but they won't be saved outside of the current session"
   ]
  },
  {
   "cell_type": "markdown",
   "id": "f768236b",
   "metadata": {
    "papermill": {
     "duration": 0.0034,
     "end_time": "2025-08-31T16:33:33.145128",
     "exception": false,
     "start_time": "2025-08-31T16:33:33.141728",
     "status": "completed"
    },
    "tags": []
   },
   "source": [
    "LeNet 5 Architecture:-\n",
    "\n",
    "Contain 7 Layers\n",
    "\n",
    "Input (32 x 32 x 1)\n",
    "\n",
    "Convolution Layer C1\n",
    "SubPooling Layer S2\n",
    "Covolution Layer C3\n",
    "SubSampling Layer S4\n",
    "FullyConnected Layer Convolutions(Flattened Layer) C5\n",
    "Fully Connected Layer F6\n",
    "Output Layer Fully Connected \n"
   ]
  },
  {
   "cell_type": "markdown",
   "id": "7dca485d",
   "metadata": {
    "papermill": {
     "duration": 0.004218,
     "end_time": "2025-08-31T16:33:33.152677",
     "exception": false,
     "start_time": "2025-08-31T16:33:33.148459",
     "status": "completed"
    },
    "tags": []
   },
   "source": [
    "Importing the Dependencies"
   ]
  },
  {
   "cell_type": "code",
   "execution_count": 2,
   "id": "da53575c",
   "metadata": {
    "execution": {
     "iopub.execute_input": "2025-08-31T16:33:33.160964Z",
     "iopub.status.busy": "2025-08-31T16:33:33.160515Z",
     "iopub.status.idle": "2025-08-31T16:33:33.164785Z",
     "shell.execute_reply": "2025-08-31T16:33:33.164012Z"
    },
    "papermill": {
     "duration": 0.010039,
     "end_time": "2025-08-31T16:33:33.166177",
     "exception": false,
     "start_time": "2025-08-31T16:33:33.156138",
     "status": "completed"
    },
    "tags": []
   },
   "outputs": [],
   "source": [
    "import numpy as np\n",
    "import pandas as pd"
   ]
  },
  {
   "cell_type": "markdown",
   "id": "b684ef54",
   "metadata": {
    "papermill": {
     "duration": 0.00306,
     "end_time": "2025-08-31T16:33:33.172671",
     "exception": false,
     "start_time": "2025-08-31T16:33:33.169611",
     "status": "completed"
    },
    "tags": []
   },
   "source": [
    "Loading the DataSet\n"
   ]
  },
  {
   "cell_type": "code",
   "execution_count": 3,
   "id": "aec2c37c",
   "metadata": {
    "execution": {
     "iopub.execute_input": "2025-08-31T16:33:33.180296Z",
     "iopub.status.busy": "2025-08-31T16:33:33.179974Z",
     "iopub.status.idle": "2025-08-31T16:33:39.158919Z",
     "shell.execute_reply": "2025-08-31T16:33:39.157945Z"
    },
    "papermill": {
     "duration": 5.984779,
     "end_time": "2025-08-31T16:33:39.160653",
     "exception": false,
     "start_time": "2025-08-31T16:33:33.175874",
     "status": "completed"
    },
    "tags": []
   },
   "outputs": [],
   "source": [
    "df_train = pd.read_csv(\"/kaggle/input/digit-recognizer/train.csv\")\n",
    "df_test = pd.read_csv(\"/kaggle/input/digit-recognizer/test.csv\")"
   ]
  },
  {
   "cell_type": "code",
   "execution_count": 4,
   "id": "f6a6d174",
   "metadata": {
    "execution": {
     "iopub.execute_input": "2025-08-31T16:33:39.168759Z",
     "iopub.status.busy": "2025-08-31T16:33:39.168455Z",
     "iopub.status.idle": "2025-08-31T16:33:39.197838Z",
     "shell.execute_reply": "2025-08-31T16:33:39.197013Z"
    },
    "papermill": {
     "duration": 0.035232,
     "end_time": "2025-08-31T16:33:39.199432",
     "exception": false,
     "start_time": "2025-08-31T16:33:39.164200",
     "status": "completed"
    },
    "tags": []
   },
   "outputs": [
    {
     "data": {
      "text/html": [
       "<div>\n",
       "<style scoped>\n",
       "    .dataframe tbody tr th:only-of-type {\n",
       "        vertical-align: middle;\n",
       "    }\n",
       "\n",
       "    .dataframe tbody tr th {\n",
       "        vertical-align: top;\n",
       "    }\n",
       "\n",
       "    .dataframe thead th {\n",
       "        text-align: right;\n",
       "    }\n",
       "</style>\n",
       "<table border=\"1\" class=\"dataframe\">\n",
       "  <thead>\n",
       "    <tr style=\"text-align: right;\">\n",
       "      <th></th>\n",
       "      <th>label</th>\n",
       "      <th>pixel0</th>\n",
       "      <th>pixel1</th>\n",
       "      <th>pixel2</th>\n",
       "      <th>pixel3</th>\n",
       "      <th>pixel4</th>\n",
       "      <th>pixel5</th>\n",
       "      <th>pixel6</th>\n",
       "      <th>pixel7</th>\n",
       "      <th>pixel8</th>\n",
       "      <th>...</th>\n",
       "      <th>pixel774</th>\n",
       "      <th>pixel775</th>\n",
       "      <th>pixel776</th>\n",
       "      <th>pixel777</th>\n",
       "      <th>pixel778</th>\n",
       "      <th>pixel779</th>\n",
       "      <th>pixel780</th>\n",
       "      <th>pixel781</th>\n",
       "      <th>pixel782</th>\n",
       "      <th>pixel783</th>\n",
       "    </tr>\n",
       "  </thead>\n",
       "  <tbody>\n",
       "    <tr>\n",
       "      <th>0</th>\n",
       "      <td>1</td>\n",
       "      <td>0</td>\n",
       "      <td>0</td>\n",
       "      <td>0</td>\n",
       "      <td>0</td>\n",
       "      <td>0</td>\n",
       "      <td>0</td>\n",
       "      <td>0</td>\n",
       "      <td>0</td>\n",
       "      <td>0</td>\n",
       "      <td>...</td>\n",
       "      <td>0</td>\n",
       "      <td>0</td>\n",
       "      <td>0</td>\n",
       "      <td>0</td>\n",
       "      <td>0</td>\n",
       "      <td>0</td>\n",
       "      <td>0</td>\n",
       "      <td>0</td>\n",
       "      <td>0</td>\n",
       "      <td>0</td>\n",
       "    </tr>\n",
       "    <tr>\n",
       "      <th>1</th>\n",
       "      <td>0</td>\n",
       "      <td>0</td>\n",
       "      <td>0</td>\n",
       "      <td>0</td>\n",
       "      <td>0</td>\n",
       "      <td>0</td>\n",
       "      <td>0</td>\n",
       "      <td>0</td>\n",
       "      <td>0</td>\n",
       "      <td>0</td>\n",
       "      <td>...</td>\n",
       "      <td>0</td>\n",
       "      <td>0</td>\n",
       "      <td>0</td>\n",
       "      <td>0</td>\n",
       "      <td>0</td>\n",
       "      <td>0</td>\n",
       "      <td>0</td>\n",
       "      <td>0</td>\n",
       "      <td>0</td>\n",
       "      <td>0</td>\n",
       "    </tr>\n",
       "    <tr>\n",
       "      <th>2</th>\n",
       "      <td>1</td>\n",
       "      <td>0</td>\n",
       "      <td>0</td>\n",
       "      <td>0</td>\n",
       "      <td>0</td>\n",
       "      <td>0</td>\n",
       "      <td>0</td>\n",
       "      <td>0</td>\n",
       "      <td>0</td>\n",
       "      <td>0</td>\n",
       "      <td>...</td>\n",
       "      <td>0</td>\n",
       "      <td>0</td>\n",
       "      <td>0</td>\n",
       "      <td>0</td>\n",
       "      <td>0</td>\n",
       "      <td>0</td>\n",
       "      <td>0</td>\n",
       "      <td>0</td>\n",
       "      <td>0</td>\n",
       "      <td>0</td>\n",
       "    </tr>\n",
       "    <tr>\n",
       "      <th>3</th>\n",
       "      <td>4</td>\n",
       "      <td>0</td>\n",
       "      <td>0</td>\n",
       "      <td>0</td>\n",
       "      <td>0</td>\n",
       "      <td>0</td>\n",
       "      <td>0</td>\n",
       "      <td>0</td>\n",
       "      <td>0</td>\n",
       "      <td>0</td>\n",
       "      <td>...</td>\n",
       "      <td>0</td>\n",
       "      <td>0</td>\n",
       "      <td>0</td>\n",
       "      <td>0</td>\n",
       "      <td>0</td>\n",
       "      <td>0</td>\n",
       "      <td>0</td>\n",
       "      <td>0</td>\n",
       "      <td>0</td>\n",
       "      <td>0</td>\n",
       "    </tr>\n",
       "    <tr>\n",
       "      <th>4</th>\n",
       "      <td>0</td>\n",
       "      <td>0</td>\n",
       "      <td>0</td>\n",
       "      <td>0</td>\n",
       "      <td>0</td>\n",
       "      <td>0</td>\n",
       "      <td>0</td>\n",
       "      <td>0</td>\n",
       "      <td>0</td>\n",
       "      <td>0</td>\n",
       "      <td>...</td>\n",
       "      <td>0</td>\n",
       "      <td>0</td>\n",
       "      <td>0</td>\n",
       "      <td>0</td>\n",
       "      <td>0</td>\n",
       "      <td>0</td>\n",
       "      <td>0</td>\n",
       "      <td>0</td>\n",
       "      <td>0</td>\n",
       "      <td>0</td>\n",
       "    </tr>\n",
       "  </tbody>\n",
       "</table>\n",
       "<p>5 rows × 785 columns</p>\n",
       "</div>"
      ],
      "text/plain": [
       "   label  pixel0  pixel1  pixel2  pixel3  pixel4  pixel5  pixel6  pixel7  \\\n",
       "0      1       0       0       0       0       0       0       0       0   \n",
       "1      0       0       0       0       0       0       0       0       0   \n",
       "2      1       0       0       0       0       0       0       0       0   \n",
       "3      4       0       0       0       0       0       0       0       0   \n",
       "4      0       0       0       0       0       0       0       0       0   \n",
       "\n",
       "   pixel8  ...  pixel774  pixel775  pixel776  pixel777  pixel778  pixel779  \\\n",
       "0       0  ...         0         0         0         0         0         0   \n",
       "1       0  ...         0         0         0         0         0         0   \n",
       "2       0  ...         0         0         0         0         0         0   \n",
       "3       0  ...         0         0         0         0         0         0   \n",
       "4       0  ...         0         0         0         0         0         0   \n",
       "\n",
       "   pixel780  pixel781  pixel782  pixel783  \n",
       "0         0         0         0         0  \n",
       "1         0         0         0         0  \n",
       "2         0         0         0         0  \n",
       "3         0         0         0         0  \n",
       "4         0         0         0         0  \n",
       "\n",
       "[5 rows x 785 columns]"
      ]
     },
     "execution_count": 4,
     "metadata": {},
     "output_type": "execute_result"
    }
   ],
   "source": [
    "df_train.head()"
   ]
  },
  {
   "cell_type": "code",
   "execution_count": 5,
   "id": "e6c216da",
   "metadata": {
    "execution": {
     "iopub.execute_input": "2025-08-31T16:33:39.207973Z",
     "iopub.status.busy": "2025-08-31T16:33:39.207642Z",
     "iopub.status.idle": "2025-08-31T16:33:39.221458Z",
     "shell.execute_reply": "2025-08-31T16:33:39.220735Z"
    },
    "papermill": {
     "duration": 0.019522,
     "end_time": "2025-08-31T16:33:39.222751",
     "exception": false,
     "start_time": "2025-08-31T16:33:39.203229",
     "status": "completed"
    },
    "tags": []
   },
   "outputs": [
    {
     "data": {
      "text/html": [
       "<div>\n",
       "<style scoped>\n",
       "    .dataframe tbody tr th:only-of-type {\n",
       "        vertical-align: middle;\n",
       "    }\n",
       "\n",
       "    .dataframe tbody tr th {\n",
       "        vertical-align: top;\n",
       "    }\n",
       "\n",
       "    .dataframe thead th {\n",
       "        text-align: right;\n",
       "    }\n",
       "</style>\n",
       "<table border=\"1\" class=\"dataframe\">\n",
       "  <thead>\n",
       "    <tr style=\"text-align: right;\">\n",
       "      <th></th>\n",
       "      <th>pixel0</th>\n",
       "      <th>pixel1</th>\n",
       "      <th>pixel2</th>\n",
       "      <th>pixel3</th>\n",
       "      <th>pixel4</th>\n",
       "      <th>pixel5</th>\n",
       "      <th>pixel6</th>\n",
       "      <th>pixel7</th>\n",
       "      <th>pixel8</th>\n",
       "      <th>pixel9</th>\n",
       "      <th>...</th>\n",
       "      <th>pixel774</th>\n",
       "      <th>pixel775</th>\n",
       "      <th>pixel776</th>\n",
       "      <th>pixel777</th>\n",
       "      <th>pixel778</th>\n",
       "      <th>pixel779</th>\n",
       "      <th>pixel780</th>\n",
       "      <th>pixel781</th>\n",
       "      <th>pixel782</th>\n",
       "      <th>pixel783</th>\n",
       "    </tr>\n",
       "  </thead>\n",
       "  <tbody>\n",
       "    <tr>\n",
       "      <th>0</th>\n",
       "      <td>0</td>\n",
       "      <td>0</td>\n",
       "      <td>0</td>\n",
       "      <td>0</td>\n",
       "      <td>0</td>\n",
       "      <td>0</td>\n",
       "      <td>0</td>\n",
       "      <td>0</td>\n",
       "      <td>0</td>\n",
       "      <td>0</td>\n",
       "      <td>...</td>\n",
       "      <td>0</td>\n",
       "      <td>0</td>\n",
       "      <td>0</td>\n",
       "      <td>0</td>\n",
       "      <td>0</td>\n",
       "      <td>0</td>\n",
       "      <td>0</td>\n",
       "      <td>0</td>\n",
       "      <td>0</td>\n",
       "      <td>0</td>\n",
       "    </tr>\n",
       "    <tr>\n",
       "      <th>1</th>\n",
       "      <td>0</td>\n",
       "      <td>0</td>\n",
       "      <td>0</td>\n",
       "      <td>0</td>\n",
       "      <td>0</td>\n",
       "      <td>0</td>\n",
       "      <td>0</td>\n",
       "      <td>0</td>\n",
       "      <td>0</td>\n",
       "      <td>0</td>\n",
       "      <td>...</td>\n",
       "      <td>0</td>\n",
       "      <td>0</td>\n",
       "      <td>0</td>\n",
       "      <td>0</td>\n",
       "      <td>0</td>\n",
       "      <td>0</td>\n",
       "      <td>0</td>\n",
       "      <td>0</td>\n",
       "      <td>0</td>\n",
       "      <td>0</td>\n",
       "    </tr>\n",
       "    <tr>\n",
       "      <th>2</th>\n",
       "      <td>0</td>\n",
       "      <td>0</td>\n",
       "      <td>0</td>\n",
       "      <td>0</td>\n",
       "      <td>0</td>\n",
       "      <td>0</td>\n",
       "      <td>0</td>\n",
       "      <td>0</td>\n",
       "      <td>0</td>\n",
       "      <td>0</td>\n",
       "      <td>...</td>\n",
       "      <td>0</td>\n",
       "      <td>0</td>\n",
       "      <td>0</td>\n",
       "      <td>0</td>\n",
       "      <td>0</td>\n",
       "      <td>0</td>\n",
       "      <td>0</td>\n",
       "      <td>0</td>\n",
       "      <td>0</td>\n",
       "      <td>0</td>\n",
       "    </tr>\n",
       "    <tr>\n",
       "      <th>3</th>\n",
       "      <td>0</td>\n",
       "      <td>0</td>\n",
       "      <td>0</td>\n",
       "      <td>0</td>\n",
       "      <td>0</td>\n",
       "      <td>0</td>\n",
       "      <td>0</td>\n",
       "      <td>0</td>\n",
       "      <td>0</td>\n",
       "      <td>0</td>\n",
       "      <td>...</td>\n",
       "      <td>0</td>\n",
       "      <td>0</td>\n",
       "      <td>0</td>\n",
       "      <td>0</td>\n",
       "      <td>0</td>\n",
       "      <td>0</td>\n",
       "      <td>0</td>\n",
       "      <td>0</td>\n",
       "      <td>0</td>\n",
       "      <td>0</td>\n",
       "    </tr>\n",
       "    <tr>\n",
       "      <th>4</th>\n",
       "      <td>0</td>\n",
       "      <td>0</td>\n",
       "      <td>0</td>\n",
       "      <td>0</td>\n",
       "      <td>0</td>\n",
       "      <td>0</td>\n",
       "      <td>0</td>\n",
       "      <td>0</td>\n",
       "      <td>0</td>\n",
       "      <td>0</td>\n",
       "      <td>...</td>\n",
       "      <td>0</td>\n",
       "      <td>0</td>\n",
       "      <td>0</td>\n",
       "      <td>0</td>\n",
       "      <td>0</td>\n",
       "      <td>0</td>\n",
       "      <td>0</td>\n",
       "      <td>0</td>\n",
       "      <td>0</td>\n",
       "      <td>0</td>\n",
       "    </tr>\n",
       "  </tbody>\n",
       "</table>\n",
       "<p>5 rows × 784 columns</p>\n",
       "</div>"
      ],
      "text/plain": [
       "   pixel0  pixel1  pixel2  pixel3  pixel4  pixel5  pixel6  pixel7  pixel8  \\\n",
       "0       0       0       0       0       0       0       0       0       0   \n",
       "1       0       0       0       0       0       0       0       0       0   \n",
       "2       0       0       0       0       0       0       0       0       0   \n",
       "3       0       0       0       0       0       0       0       0       0   \n",
       "4       0       0       0       0       0       0       0       0       0   \n",
       "\n",
       "   pixel9  ...  pixel774  pixel775  pixel776  pixel777  pixel778  pixel779  \\\n",
       "0       0  ...         0         0         0         0         0         0   \n",
       "1       0  ...         0         0         0         0         0         0   \n",
       "2       0  ...         0         0         0         0         0         0   \n",
       "3       0  ...         0         0         0         0         0         0   \n",
       "4       0  ...         0         0         0         0         0         0   \n",
       "\n",
       "   pixel780  pixel781  pixel782  pixel783  \n",
       "0         0         0         0         0  \n",
       "1         0         0         0         0  \n",
       "2         0         0         0         0  \n",
       "3         0         0         0         0  \n",
       "4         0         0         0         0  \n",
       "\n",
       "[5 rows x 784 columns]"
      ]
     },
     "execution_count": 5,
     "metadata": {},
     "output_type": "execute_result"
    }
   ],
   "source": [
    "df_test.head()"
   ]
  },
  {
   "cell_type": "code",
   "execution_count": 6,
   "id": "9680150b",
   "metadata": {
    "execution": {
     "iopub.execute_input": "2025-08-31T16:33:39.231680Z",
     "iopub.status.busy": "2025-08-31T16:33:39.231382Z",
     "iopub.status.idle": "2025-08-31T16:33:39.957621Z",
     "shell.execute_reply": "2025-08-31T16:33:39.956714Z"
    },
    "papermill": {
     "duration": 0.732615,
     "end_time": "2025-08-31T16:33:39.959381",
     "exception": false,
     "start_time": "2025-08-31T16:33:39.226766",
     "status": "completed"
    },
    "tags": []
   },
   "outputs": [],
   "source": [
    "X_train = df_train.iloc[:,1:].values.reshape(-1,28,28)/255.0\n",
    "y_train = df_train.iloc[:, 0].values\n",
    "X_test = df_test.values.reshape(-1, 28, 28) / 255.0\n",
    "# Pad to 32x32 as in original LeNet\n",
    "X_train = np.pad(X_train, ((0,0),(2,2),(2,2)), 'constant')\n",
    "X_test = np.pad(X_test, ((0,0),(2,2),(2,2)), 'constant')"
   ]
  },
  {
   "cell_type": "code",
   "execution_count": 7,
   "id": "b335a50d",
   "metadata": {
    "execution": {
     "iopub.execute_input": "2025-08-31T16:33:39.968519Z",
     "iopub.status.busy": "2025-08-31T16:33:39.968210Z",
     "iopub.status.idle": "2025-08-31T16:33:39.973577Z",
     "shell.execute_reply": "2025-08-31T16:33:39.972811Z"
    },
    "papermill": {
     "duration": 0.011607,
     "end_time": "2025-08-31T16:33:39.974984",
     "exception": false,
     "start_time": "2025-08-31T16:33:39.963377",
     "status": "completed"
    },
    "tags": []
   },
   "outputs": [
    {
     "data": {
      "text/plain": [
       "(42000, 32, 32)"
      ]
     },
     "execution_count": 7,
     "metadata": {},
     "output_type": "execute_result"
    }
   ],
   "source": [
    "X_train.shape"
   ]
  },
  {
   "cell_type": "code",
   "execution_count": 8,
   "id": "2f137dde",
   "metadata": {
    "execution": {
     "iopub.execute_input": "2025-08-31T16:33:39.984930Z",
     "iopub.status.busy": "2025-08-31T16:33:39.984609Z",
     "iopub.status.idle": "2025-08-31T16:33:39.989975Z",
     "shell.execute_reply": "2025-08-31T16:33:39.989203Z"
    },
    "papermill": {
     "duration": 0.011488,
     "end_time": "2025-08-31T16:33:39.991336",
     "exception": false,
     "start_time": "2025-08-31T16:33:39.979848",
     "status": "completed"
    },
    "tags": []
   },
   "outputs": [
    {
     "data": {
      "text/plain": [
       "(42000,)"
      ]
     },
     "execution_count": 8,
     "metadata": {},
     "output_type": "execute_result"
    }
   ],
   "source": [
    "y_train.shape"
   ]
  },
  {
   "cell_type": "markdown",
   "id": "41fac16c",
   "metadata": {
    "papermill": {
     "duration": 0.003605,
     "end_time": "2025-08-31T16:33:39.998911",
     "exception": false,
     "start_time": "2025-08-31T16:33:39.995306",
     "status": "completed"
    },
    "tags": []
   },
   "source": [
    "Basic Layers Implementation"
   ]
  },
  {
   "cell_type": "code",
   "execution_count": 9,
   "id": "36b52269",
   "metadata": {
    "execution": {
     "iopub.execute_input": "2025-08-31T16:33:40.007797Z",
     "iopub.status.busy": "2025-08-31T16:33:40.007496Z",
     "iopub.status.idle": "2025-08-31T16:33:40.013073Z",
     "shell.execute_reply": "2025-08-31T16:33:40.012381Z"
    },
    "papermill": {
     "duration": 0.011628,
     "end_time": "2025-08-31T16:33:40.014387",
     "exception": false,
     "start_time": "2025-08-31T16:33:40.002759",
     "status": "completed"
    },
    "tags": []
   },
   "outputs": [],
   "source": [
    "# Activation and Loss Functions\n",
    "\n",
    "def relu(x):\n",
    "    return np.maximum(0, x)\n",
    "\n",
    "def relu_backward(dout, x):\n",
    "    dx = dout.copy()\n",
    "    dx[x <= 0] = 0\n",
    "    return dx\n",
    "\n",
    "def softmax(x):\n",
    "    e = np.exp(x - np.max(x))\n",
    "    return e / np.sum(e)\n",
    "\n",
    "def cross_entropy_loss(pred, label):\n",
    "    loss = -np.log(pred[label] + 1e-12)\n",
    "    d_out = pred.copy()\n",
    "    d_out[label] -= 1\n",
    "    return loss, d_out\n"
   ]
  },
  {
   "cell_type": "code",
   "execution_count": 10,
   "id": "50454c90",
   "metadata": {
    "execution": {
     "iopub.execute_input": "2025-08-31T16:33:40.023350Z",
     "iopub.status.busy": "2025-08-31T16:33:40.023009Z",
     "iopub.status.idle": "2025-08-31T16:33:40.032651Z",
     "shell.execute_reply": "2025-08-31T16:33:40.031815Z"
    },
    "papermill": {
     "duration": 0.015907,
     "end_time": "2025-08-31T16:33:40.034216",
     "exception": false,
     "start_time": "2025-08-31T16:33:40.018309",
     "status": "completed"
    },
    "tags": []
   },
   "outputs": [],
   "source": [
    "# Convolution and Pooling Layers\n",
    "\n",
    "def conv2d(img, kernel):\n",
    "    k = kernel.shape[0]\n",
    "    out_dim = img.shape[0] - k + 1\n",
    "    out = np.zeros((out_dim, out_dim))\n",
    "    for i in range(out_dim):\n",
    "        for j in range(out_dim):\n",
    "            out[i,j] = np.sum(img[i:i+k, j:j+k] * kernel)\n",
    "    return out\n",
    "\n",
    "def conv2d_backward(d_out, img, kernel):\n",
    "   \n",
    "    k = kernel.shape[0]\n",
    "    d_kernel = np.zeros_like(kernel)\n",
    "    out_dim = d_out.shape[0]\n",
    "    for i in range(k):\n",
    "        for j in range(k):\n",
    "            d_kernel[i,j] = np.sum(d_out * img[i:i+out_dim, j:j+out_dim])\n",
    "  \n",
    "    d_img = np.zeros_like(img)\n",
    "    for i in range(out_dim):\n",
    "        for j in range(out_dim):\n",
    "            d_img[i:i+k, j:j+k] += d_out[i,j] * kernel\n",
    "    return d_kernel, d_img\n",
    "\n",
    "def avg_pool(img, size=2):\n",
    "    s = size\n",
    "    out_dim = img.shape[0] // s\n",
    "    out = np.zeros((out_dim, out_dim))\n",
    "    for i in range(out_dim):\n",
    "        for j in range(out_dim):\n",
    "            out[i,j] = np.mean(img[i*s:(i+1)*s, j*s:(j+1)*s])\n",
    "    return out\n",
    "\n",
    "def avg_pool_backward(d_out, img, size=2):\n",
    "    s = size\n",
    "    out_dim = d_out.shape[0]\n",
    "    d_img = np.zeros_like(img)\n",
    "    for i in range(out_dim):\n",
    "        for j in range(out_dim):\n",
    "            d_img[i*s:(i+1)*s, j*s:(j+1)*s] = d_out[i,j] / (s*s)\n",
    "    return d_img"
   ]
  },
  {
   "cell_type": "markdown",
   "id": "0cbba201",
   "metadata": {
    "papermill": {
     "duration": 0.003902,
     "end_time": "2025-08-31T16:33:40.042178",
     "exception": false,
     "start_time": "2025-08-31T16:33:40.038276",
     "status": "completed"
    },
    "tags": []
   },
   "source": [
    "Simple Forward Pass"
   ]
  },
  {
   "cell_type": "code",
   "execution_count": 11,
   "id": "8f783dfd",
   "metadata": {
    "execution": {
     "iopub.execute_input": "2025-08-31T16:33:40.052156Z",
     "iopub.status.busy": "2025-08-31T16:33:40.051112Z",
     "iopub.status.idle": "2025-08-31T16:33:40.065576Z",
     "shell.execute_reply": "2025-08-31T16:33:40.064539Z"
    },
    "papermill": {
     "duration": 0.021006,
     "end_time": "2025-08-31T16:33:40.067160",
     "exception": false,
     "start_time": "2025-08-31T16:33:40.046154",
     "status": "completed"
    },
    "tags": []
   },
   "outputs": [],
   "source": [
    "class SimpleLeNet:\n",
    "    def __init__(self):\n",
    "        \n",
    "        self.k1 = [np.random.randn(5,5)*0.01 for _ in range(2)] \n",
    "        self.k3 = [np.random.randn(5,5)*0.01 for _ in range(4)]\n",
    "       \n",
    "        self.W1 = np.random.randn(30, 4*5*5)*0.01\n",
    "        self.W2 = np.random.randn(20, 30)*0.01\n",
    "        self.W3 = np.random.randn(10, 20)*0.01\n",
    "        self.lr = 0.01\n",
    "\n",
    "    def forward(self, x):\n",
    "        self.x = x\n",
    "       \n",
    "        self.C1 = [relu(conv2d(x, k)) for k in self.k1]\n",
    "       \n",
    "        self.S2 = [avg_pool(m) for m in self.C1]\n",
    "     \n",
    "        self.C3 = [relu(conv2d(self.S2[i%2], self.k3[i])) for i in range(4)]\n",
    "    \n",
    "        self.S4 = [avg_pool(m) for m in self.C3]\n",
    "       \n",
    "        self.flat = np.concatenate([m.flatten() for m in self.S4])\n",
    "        \n",
    "        self.fc1 = relu(self.W1 @ self.flat)\n",
    "        self.fc2 = relu(self.W2 @ self.fc1)\n",
    "        self.out = softmax(self.W3 @ self.fc2)\n",
    "        return self.out\n",
    "\n",
    "    def backward(self, d_out):\n",
    "        \n",
    "        dW3 = np.outer(d_out, self.fc2)\n",
    "        d_fc2 = self.W3.T @ d_out\n",
    "        d_fc2 = relu_backward(d_fc2, self.fc2)\n",
    "        dW2 = np.outer(d_fc2, self.fc1)\n",
    "        d_fc1 = self.W2.T @ d_fc2\n",
    "        d_fc1 = relu_backward(d_fc1, self.fc1)\n",
    "        dW1 = np.outer(d_fc1, self.flat)\n",
    "\n",
    "       \n",
    "        d_flat = self.W1.T @ d_fc1\n",
    "        S4_shapes = [m.shape for m in self.S4]\n",
    "        dS4 = []\n",
    "        idx = 0\n",
    "        for shape in S4_shapes:\n",
    "            size = shape[0]*shape[1]\n",
    "            dS4.append(d_flat[idx:idx+size].reshape(shape))\n",
    "            idx += size\n",
    "\n",
    "        \n",
    "        dC3 = [avg_pool_backward(dS4[i], self.C3[i]) for i in range(4)]\n",
    "\n",
    "        \n",
    "        dS2 = [np.zeros_like(self.S2[0]) for _ in range(2)]\n",
    "        for i in range(4):\n",
    "            dk3, d_input = conv2d_backward(dC3[i], self.S2[i%2], self.k3[i])\n",
    "            self.k3[i] -= self.lr * dk3\n",
    "            dS2[i%2] += d_input\n",
    "\n",
    "       \n",
    "        dC1 = [avg_pool_backward(dS2[i], self.C1[i]) for i in range(2)]\n",
    "\n",
    "       \n",
    "        for i in range(2):\n",
    "            dk1, d_input = conv2d_backward(dC1[i], self.x, self.k1[i])\n",
    "            self.k1[i] -= self.lr * dk1\n",
    "\n",
    "        \n",
    "        self.W3 -= self.lr * dW3\n",
    "        self.W2 -= self.lr * dW2\n",
    "        self.W1 -= self.lr * dW1\n",
    "\n",
    "    def train_step(self, x, label):\n",
    "        pred = self.forward(x)\n",
    "        loss, d_out = cross_entropy_loss(pred, label)\n",
    "        self.backward(d_out)\n",
    "        return loss\n"
   ]
  },
  {
   "cell_type": "code",
   "execution_count": null,
   "id": "eb6c1928",
   "metadata": {
    "papermill": {
     "duration": 0.003567,
     "end_time": "2025-08-31T16:33:40.074739",
     "exception": false,
     "start_time": "2025-08-31T16:33:40.071172",
     "status": "completed"
    },
    "tags": []
   },
   "outputs": [],
   "source": []
  }
 ],
 "metadata": {
  "kaggle": {
   "accelerator": "none",
   "dataSources": [
    {
     "databundleVersionId": 861823,
     "sourceId": 3004,
     "sourceType": "competition"
    }
   ],
   "dockerImageVersionId": 31089,
   "isGpuEnabled": false,
   "isInternetEnabled": true,
   "language": "python",
   "sourceType": "notebook"
  },
  "kernelspec": {
   "display_name": "Python 3",
   "language": "python",
   "name": "python3"
  },
  "language_info": {
   "codemirror_mode": {
    "name": "ipython",
    "version": 3
   },
   "file_extension": ".py",
   "mimetype": "text/x-python",
   "name": "python",
   "nbconvert_exporter": "python",
   "pygments_lexer": "ipython3",
   "version": "3.11.13"
  },
  "papermill": {
   "default_parameters": {},
   "duration": 14.531622,
   "end_time": "2025-08-31T16:33:40.599386",
   "environment_variables": {},
   "exception": null,
   "input_path": "__notebook__.ipynb",
   "output_path": "__notebook__.ipynb",
   "parameters": {},
   "start_time": "2025-08-31T16:33:26.067764",
   "version": "2.6.0"
  }
 },
 "nbformat": 4,
 "nbformat_minor": 5
}
