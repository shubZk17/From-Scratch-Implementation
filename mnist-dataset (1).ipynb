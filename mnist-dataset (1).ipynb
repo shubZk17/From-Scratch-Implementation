{
 "cells": [
  {
   "cell_type": "code",
   "execution_count": 1,
   "id": "70cd8ee9",
   "metadata": {
    "_cell_guid": "b1076dfc-b9ad-4769-8c92-a6c4dae69d19",
    "_uuid": "8f2839f25d086af736a60e9eeb907d3b93b6e0e5",
    "execution": {
     "iopub.execute_input": "2025-07-10T06:51:22.875245Z",
     "iopub.status.busy": "2025-07-10T06:51:22.874906Z",
     "iopub.status.idle": "2025-07-10T06:51:24.954185Z",
     "shell.execute_reply": "2025-07-10T06:51:24.952814Z"
    },
    "papermill": {
     "duration": 2.085805,
     "end_time": "2025-07-10T06:51:24.956256",
     "exception": false,
     "start_time": "2025-07-10T06:51:22.870451",
     "status": "completed"
    },
    "tags": []
   },
   "outputs": [
    {
     "name": "stdout",
     "output_type": "stream",
     "text": [
      "/kaggle/input/digit-recognizer/sample_submission.csv\n",
      "/kaggle/input/digit-recognizer/train.csv\n",
      "/kaggle/input/digit-recognizer/test.csv\n"
     ]
    }
   ],
   "source": [
    "# This Python 3 environment comes with many helpful analytics libraries installed\n",
    "# It is defined by the kaggle/python Docker image: https://github.com/kaggle/docker-python\n",
    "# For example, here's several helpful packages to load\n",
    "\n",
    "import numpy as np # linear algebra\n",
    "import pandas as pd # data processing, CSV file I/O (e.g. pd.read_csv)\n",
    "\n",
    "# Input data files are available in the read-only \"../input/\" directory\n",
    "# For example, running this (by clicking run or pressing Shift+Enter) will list all files under the input directory\n",
    "\n",
    "import os\n",
    "for dirname, _, filenames in os.walk('/kaggle/input'):\n",
    "    for filename in filenames:\n",
    "        print(os.path.join(dirname, filename))\n",
    "\n",
    "# You can write up to 20GB to the current directory (/kaggle/working/) that gets preserved as output when you create a version using \"Save & Run All\" \n",
    "# You can also write temporary files to /kaggle/temp/, but they won't be saved outside of the current session"
   ]
  },
  {
   "cell_type": "code",
   "execution_count": 2,
   "id": "d202ac8a",
   "metadata": {
    "execution": {
     "iopub.execute_input": "2025-07-10T06:51:24.965284Z",
     "iopub.status.busy": "2025-07-10T06:51:24.964720Z",
     "iopub.status.idle": "2025-07-10T06:51:28.259828Z",
     "shell.execute_reply": "2025-07-10T06:51:28.258894Z"
    },
    "papermill": {
     "duration": 3.301379,
     "end_time": "2025-07-10T06:51:28.261641",
     "exception": false,
     "start_time": "2025-07-10T06:51:24.960262",
     "status": "completed"
    },
    "tags": []
   },
   "outputs": [],
   "source": [
    "import numpy as np\n",
    "import pandas as pd\n",
    "import matplotlib.pyplot as plt\n",
    "\n",
    "data = pd.read_csv(\"/kaggle/input/digit-recognizer/train.csv\")"
   ]
  },
  {
   "cell_type": "code",
   "execution_count": 3,
   "id": "8e2961f1",
   "metadata": {
    "execution": {
     "iopub.execute_input": "2025-07-10T06:51:28.268419Z",
     "iopub.status.busy": "2025-07-10T06:51:28.268131Z",
     "iopub.status.idle": "2025-07-10T06:51:28.297855Z",
     "shell.execute_reply": "2025-07-10T06:51:28.297034Z"
    },
    "papermill": {
     "duration": 0.034859,
     "end_time": "2025-07-10T06:51:28.299411",
     "exception": false,
     "start_time": "2025-07-10T06:51:28.264552",
     "status": "completed"
    },
    "tags": []
   },
   "outputs": [
    {
     "data": {
      "text/html": [
       "<div>\n",
       "<style scoped>\n",
       "    .dataframe tbody tr th:only-of-type {\n",
       "        vertical-align: middle;\n",
       "    }\n",
       "\n",
       "    .dataframe tbody tr th {\n",
       "        vertical-align: top;\n",
       "    }\n",
       "\n",
       "    .dataframe thead th {\n",
       "        text-align: right;\n",
       "    }\n",
       "</style>\n",
       "<table border=\"1\" class=\"dataframe\">\n",
       "  <thead>\n",
       "    <tr style=\"text-align: right;\">\n",
       "      <th></th>\n",
       "      <th>label</th>\n",
       "      <th>pixel0</th>\n",
       "      <th>pixel1</th>\n",
       "      <th>pixel2</th>\n",
       "      <th>pixel3</th>\n",
       "      <th>pixel4</th>\n",
       "      <th>pixel5</th>\n",
       "      <th>pixel6</th>\n",
       "      <th>pixel7</th>\n",
       "      <th>pixel8</th>\n",
       "      <th>...</th>\n",
       "      <th>pixel774</th>\n",
       "      <th>pixel775</th>\n",
       "      <th>pixel776</th>\n",
       "      <th>pixel777</th>\n",
       "      <th>pixel778</th>\n",
       "      <th>pixel779</th>\n",
       "      <th>pixel780</th>\n",
       "      <th>pixel781</th>\n",
       "      <th>pixel782</th>\n",
       "      <th>pixel783</th>\n",
       "    </tr>\n",
       "  </thead>\n",
       "  <tbody>\n",
       "    <tr>\n",
       "      <th>0</th>\n",
       "      <td>1</td>\n",
       "      <td>0</td>\n",
       "      <td>0</td>\n",
       "      <td>0</td>\n",
       "      <td>0</td>\n",
       "      <td>0</td>\n",
       "      <td>0</td>\n",
       "      <td>0</td>\n",
       "      <td>0</td>\n",
       "      <td>0</td>\n",
       "      <td>...</td>\n",
       "      <td>0</td>\n",
       "      <td>0</td>\n",
       "      <td>0</td>\n",
       "      <td>0</td>\n",
       "      <td>0</td>\n",
       "      <td>0</td>\n",
       "      <td>0</td>\n",
       "      <td>0</td>\n",
       "      <td>0</td>\n",
       "      <td>0</td>\n",
       "    </tr>\n",
       "    <tr>\n",
       "      <th>1</th>\n",
       "      <td>0</td>\n",
       "      <td>0</td>\n",
       "      <td>0</td>\n",
       "      <td>0</td>\n",
       "      <td>0</td>\n",
       "      <td>0</td>\n",
       "      <td>0</td>\n",
       "      <td>0</td>\n",
       "      <td>0</td>\n",
       "      <td>0</td>\n",
       "      <td>...</td>\n",
       "      <td>0</td>\n",
       "      <td>0</td>\n",
       "      <td>0</td>\n",
       "      <td>0</td>\n",
       "      <td>0</td>\n",
       "      <td>0</td>\n",
       "      <td>0</td>\n",
       "      <td>0</td>\n",
       "      <td>0</td>\n",
       "      <td>0</td>\n",
       "    </tr>\n",
       "    <tr>\n",
       "      <th>2</th>\n",
       "      <td>1</td>\n",
       "      <td>0</td>\n",
       "      <td>0</td>\n",
       "      <td>0</td>\n",
       "      <td>0</td>\n",
       "      <td>0</td>\n",
       "      <td>0</td>\n",
       "      <td>0</td>\n",
       "      <td>0</td>\n",
       "      <td>0</td>\n",
       "      <td>...</td>\n",
       "      <td>0</td>\n",
       "      <td>0</td>\n",
       "      <td>0</td>\n",
       "      <td>0</td>\n",
       "      <td>0</td>\n",
       "      <td>0</td>\n",
       "      <td>0</td>\n",
       "      <td>0</td>\n",
       "      <td>0</td>\n",
       "      <td>0</td>\n",
       "    </tr>\n",
       "    <tr>\n",
       "      <th>3</th>\n",
       "      <td>4</td>\n",
       "      <td>0</td>\n",
       "      <td>0</td>\n",
       "      <td>0</td>\n",
       "      <td>0</td>\n",
       "      <td>0</td>\n",
       "      <td>0</td>\n",
       "      <td>0</td>\n",
       "      <td>0</td>\n",
       "      <td>0</td>\n",
       "      <td>...</td>\n",
       "      <td>0</td>\n",
       "      <td>0</td>\n",
       "      <td>0</td>\n",
       "      <td>0</td>\n",
       "      <td>0</td>\n",
       "      <td>0</td>\n",
       "      <td>0</td>\n",
       "      <td>0</td>\n",
       "      <td>0</td>\n",
       "      <td>0</td>\n",
       "    </tr>\n",
       "    <tr>\n",
       "      <th>4</th>\n",
       "      <td>0</td>\n",
       "      <td>0</td>\n",
       "      <td>0</td>\n",
       "      <td>0</td>\n",
       "      <td>0</td>\n",
       "      <td>0</td>\n",
       "      <td>0</td>\n",
       "      <td>0</td>\n",
       "      <td>0</td>\n",
       "      <td>0</td>\n",
       "      <td>...</td>\n",
       "      <td>0</td>\n",
       "      <td>0</td>\n",
       "      <td>0</td>\n",
       "      <td>0</td>\n",
       "      <td>0</td>\n",
       "      <td>0</td>\n",
       "      <td>0</td>\n",
       "      <td>0</td>\n",
       "      <td>0</td>\n",
       "      <td>0</td>\n",
       "    </tr>\n",
       "  </tbody>\n",
       "</table>\n",
       "<p>5 rows × 785 columns</p>\n",
       "</div>"
      ],
      "text/plain": [
       "   label  pixel0  pixel1  pixel2  pixel3  pixel4  pixel5  pixel6  pixel7  \\\n",
       "0      1       0       0       0       0       0       0       0       0   \n",
       "1      0       0       0       0       0       0       0       0       0   \n",
       "2      1       0       0       0       0       0       0       0       0   \n",
       "3      4       0       0       0       0       0       0       0       0   \n",
       "4      0       0       0       0       0       0       0       0       0   \n",
       "\n",
       "   pixel8  ...  pixel774  pixel775  pixel776  pixel777  pixel778  pixel779  \\\n",
       "0       0  ...         0         0         0         0         0         0   \n",
       "1       0  ...         0         0         0         0         0         0   \n",
       "2       0  ...         0         0         0         0         0         0   \n",
       "3       0  ...         0         0         0         0         0         0   \n",
       "4       0  ...         0         0         0         0         0         0   \n",
       "\n",
       "   pixel780  pixel781  pixel782  pixel783  \n",
       "0         0         0         0         0  \n",
       "1         0         0         0         0  \n",
       "2         0         0         0         0  \n",
       "3         0         0         0         0  \n",
       "4         0         0         0         0  \n",
       "\n",
       "[5 rows x 785 columns]"
      ]
     },
     "execution_count": 3,
     "metadata": {},
     "output_type": "execute_result"
    }
   ],
   "source": [
    "data.head()"
   ]
  },
  {
   "cell_type": "code",
   "execution_count": 4,
   "id": "646349af",
   "metadata": {
    "execution": {
     "iopub.execute_input": "2025-07-10T06:51:28.307039Z",
     "iopub.status.busy": "2025-07-10T06:51:28.306652Z",
     "iopub.status.idle": "2025-07-10T06:51:28.312409Z",
     "shell.execute_reply": "2025-07-10T06:51:28.311497Z"
    },
    "papermill": {
     "duration": 0.011194,
     "end_time": "2025-07-10T06:51:28.313862",
     "exception": false,
     "start_time": "2025-07-10T06:51:28.302668",
     "status": "completed"
    },
    "tags": []
   },
   "outputs": [
    {
     "data": {
      "text/plain": [
       "(42000, 785)"
      ]
     },
     "execution_count": 4,
     "metadata": {},
     "output_type": "execute_result"
    }
   ],
   "source": [
    "data.shape"
   ]
  },
  {
   "cell_type": "code",
   "execution_count": 5,
   "id": "d43da633",
   "metadata": {
    "execution": {
     "iopub.execute_input": "2025-07-10T06:51:28.321668Z",
     "iopub.status.busy": "2025-07-10T06:51:28.321064Z",
     "iopub.status.idle": "2025-07-10T06:51:29.155326Z",
     "shell.execute_reply": "2025-07-10T06:51:29.154384Z"
    },
    "papermill": {
     "duration": 0.839725,
     "end_time": "2025-07-10T06:51:29.156937",
     "exception": false,
     "start_time": "2025-07-10T06:51:28.317212",
     "status": "completed"
    },
    "tags": []
   },
   "outputs": [],
   "source": [
    "data = np.array(data)\n",
    "m , n = data.shape\n",
    "\n",
    "np.random.shuffle(data)\n",
    "\n",
    "data_dev  = data[0:1000].T\n",
    "\n",
    "Y_dev = data_dev[0]\n",
    "X_dev = data_dev[1: n] /255\n",
    "\n",
    "data_train = data[1000: m].T\n",
    "\n",
    "Y_train = data_train[0]\n",
    "X_train = data_train[1:n] /255"
   ]
  },
  {
   "cell_type": "code",
   "execution_count": 6,
   "id": "8b95fbb0",
   "metadata": {
    "execution": {
     "iopub.execute_input": "2025-07-10T06:51:29.165914Z",
     "iopub.status.busy": "2025-07-10T06:51:29.165624Z",
     "iopub.status.idle": "2025-07-10T06:51:29.171223Z",
     "shell.execute_reply": "2025-07-10T06:51:29.170282Z"
    },
    "papermill": {
     "duration": 0.011729,
     "end_time": "2025-07-10T06:51:29.172888",
     "exception": false,
     "start_time": "2025-07-10T06:51:29.161159",
     "status": "completed"
    },
    "tags": []
   },
   "outputs": [
    {
     "name": "stdout",
     "output_type": "stream",
     "text": [
      "(784, 41000)\n",
      "(41000,)\n",
      "(784, 1000)\n",
      "(1000,)\n"
     ]
    }
   ],
   "source": [
    "print(X_train.shape)\n",
    "print(Y_train.shape)\n",
    "print(X_dev.shape)\n",
    "print(Y_dev.shape)"
   ]
  },
  {
   "cell_type": "markdown",
   "id": "2cc1a51b",
   "metadata": {
    "papermill": {
     "duration": 0.003156,
     "end_time": "2025-07-10T06:51:29.179721",
     "exception": false,
     "start_time": "2025-07-10T06:51:29.176565",
     "status": "completed"
    },
    "tags": []
   },
   "source": [
    "Applying a 2 Layer Neural Network on the MNIST Dataset"
   ]
  },
  {
   "cell_type": "code",
   "execution_count": 7,
   "id": "c4e29438",
   "metadata": {
    "execution": {
     "iopub.execute_input": "2025-07-10T06:51:29.187238Z",
     "iopub.status.busy": "2025-07-10T06:51:29.186932Z",
     "iopub.status.idle": "2025-07-10T06:51:29.197158Z",
     "shell.execute_reply": "2025-07-10T06:51:29.196189Z"
    },
    "papermill": {
     "duration": 0.015756,
     "end_time": "2025-07-10T06:51:29.198680",
     "exception": false,
     "start_time": "2025-07-10T06:51:29.182924",
     "status": "completed"
    },
    "tags": []
   },
   "outputs": [],
   "source": [
    "def init_params():\n",
    "    W1 = np.random.rand(10, 784) * 0.01\n",
    "    b1 = np.zeros((10, 1)) \n",
    "    W2 = np.random.rand(10, 10) * 0.01\n",
    "    b2 = np.zeros((10, 1)) \n",
    "    return W1, b1, W2, b2\n",
    "\n",
    "def ReLU(Z):\n",
    "    return np.maximum(Z, 0)\n",
    "\n",
    "def softmax(Z):\n",
    "    expZ = np.exp(Z - np.max(Z, axis=0, keepdims=True))  \n",
    "    return expZ / np.sum(expZ, axis=0, keepdims=True)\n",
    "\n",
    "    \n",
    "def forward_prop(W1, b1, W2, b2, X):\n",
    "    Z1 = W1.dot(X) + b1\n",
    "    A1 = ReLU(Z1)\n",
    "    Z2 = W2.dot(A1) + b2\n",
    "    A2 = softmax(Z2)\n",
    "    return Z1, A1, Z2, A2\n",
    "\n",
    "def ReLU_deriv(Z):\n",
    "    return Z > 0\n",
    "\n",
    "def one_hot(Y):\n",
    "    one_hot_Y = np.zeros((Y.size, Y.max() + 1))\n",
    "    one_hot_Y[np.arange(Y.size), Y] = 1\n",
    "    one_hot_Y = one_hot_Y.T\n",
    "    return one_hot_Y\n",
    "\n",
    "def backward_prop(Z1, A1, Z2, A2, W1, W2, X, Y):\n",
    "    m = X.shape[1]\n",
    "    one_hot_Y = one_hot(Y)\n",
    "    dZ2 = A2 - one_hot_Y\n",
    "    dW2 = 1 / m * dZ2.dot(A1.T)\n",
    "    db2 = 1 / m * np.sum(dZ2, axis = 1, keepdims = True)\n",
    "    dZ1 = W2.T.dot(dZ2) * ReLU_deriv(Z1)\n",
    "    dW1 = 1 / m * dZ1.dot(X.T)\n",
    "    db1 = 1 / m * np.sum(dZ1, axis = 1, keepdims = True)\n",
    "    return dW1, db1, dW2, db2\n",
    "\n",
    "def update_params(W1, b1, W2, b2, dW1, db1, dW2, db2, alpha):\n",
    "    W1 = W1 - alpha * dW1\n",
    "    b1 = b1 - alpha * db1    \n",
    "    W2 = W2 - alpha * dW2  \n",
    "    b2 = b2 - alpha * db2    \n",
    "    return W1, b1, W2, b2"
   ]
  },
  {
   "cell_type": "code",
   "execution_count": 8,
   "id": "b0c17070",
   "metadata": {
    "execution": {
     "iopub.execute_input": "2025-07-10T06:51:29.206300Z",
     "iopub.status.busy": "2025-07-10T06:51:29.205948Z",
     "iopub.status.idle": "2025-07-10T06:51:29.213896Z",
     "shell.execute_reply": "2025-07-10T06:51:29.212862Z"
    },
    "papermill": {
     "duration": 0.013583,
     "end_time": "2025-07-10T06:51:29.215611",
     "exception": false,
     "start_time": "2025-07-10T06:51:29.202028",
     "status": "completed"
    },
    "tags": []
   },
   "outputs": [],
   "source": [
    "def get_predictions(A2):\n",
    "    return np.argmax(A2, axis=0)\n",
    "\n",
    "def get_accuracy(predictions, Y):\n",
    "    return np.mean(predictions == Y)\n",
    "\n",
    "def compute_cost(A2, Y):\n",
    "    m = Y.shape[0]\n",
    "    one_hot_Y = one_hot(Y)\n",
    "    cost = -np.sum(one_hot_Y * np.log(A2 + 1e-8)) / m\n",
    "    return np.squeeze(cost)\n",
    "\n",
    "def gradient_descent(X, Y, alpha, iterations):\n",
    "    W1, b1, W2, b2 = init_params()\n",
    "    for i in range(iterations):\n",
    "        Z1, A1, Z2, A2 = forward_prop(W1, b1, W2, b2, X)\n",
    "        dW1, db1, dW2, db2 = backward_prop(Z1, A1, Z2, A2, W1, W2, X, Y)\n",
    "        W1, b1, W2, b2 = update_params(W1, b1, W2, b2, dW1, db1, dW2, db2, alpha)\n",
    "        \n",
    "        if i % 10 == 0:\n",
    "            predictions = get_predictions(A2)\n",
    "            acc = get_accuracy(predictions, Y)\n",
    "            cost = compute_cost(A2, Y)\n",
    "            print(f\"Iteration {i}: Accuracy = {acc:.4f}, Cost = {cost:.4f}\")\n",
    "    \n",
    "    return W1, b1, W2, b2\n"
   ]
  },
  {
   "cell_type": "code",
   "execution_count": 9,
   "id": "9b43a8e4",
   "metadata": {
    "execution": {
     "iopub.execute_input": "2025-07-10T06:51:29.223154Z",
     "iopub.status.busy": "2025-07-10T06:51:29.222791Z",
     "iopub.status.idle": "2025-07-10T06:51:48.114601Z",
     "shell.execute_reply": "2025-07-10T06:51:48.113710Z"
    },
    "papermill": {
     "duration": 18.897304,
     "end_time": "2025-07-10T06:51:48.116121",
     "exception": false,
     "start_time": "2025-07-10T06:51:29.218817",
     "status": "completed"
    },
    "tags": []
   },
   "outputs": [
    {
     "name": "stdout",
     "output_type": "stream",
     "text": [
      "Iteration 0: Accuracy = 0.1020, Cost = 2.3027\n",
      "Iteration 10: Accuracy = 0.0981, Cost = 2.2953\n",
      "Iteration 20: Accuracy = 0.0981, Cost = 2.2858\n",
      "Iteration 30: Accuracy = 0.1097, Cost = 2.2688\n",
      "Iteration 40: Accuracy = 0.1794, Cost = 2.2381\n",
      "Iteration 50: Accuracy = 0.2025, Cost = 2.1987\n",
      "Iteration 60: Accuracy = 0.2165, Cost = 2.1572\n",
      "Iteration 70: Accuracy = 0.2268, Cost = 2.1160\n",
      "Iteration 80: Accuracy = 0.2405, Cost = 2.0736\n",
      "Iteration 90: Accuracy = 0.2695, Cost = 2.0253\n",
      "Iteration 100: Accuracy = 0.3345, Cost = 1.9643\n",
      "Iteration 110: Accuracy = 0.4140, Cost = 1.8849\n",
      "Iteration 120: Accuracy = 0.4508, Cost = 1.7880\n",
      "Iteration 130: Accuracy = 0.4806, Cost = 1.6808\n",
      "Iteration 140: Accuracy = 0.5125, Cost = 1.5706\n",
      "Iteration 150: Accuracy = 0.5488, Cost = 1.4648\n",
      "Iteration 160: Accuracy = 0.5885, Cost = 1.3690\n",
      "Iteration 170: Accuracy = 0.6334, Cost = 1.2845\n",
      "Iteration 180: Accuracy = 0.6667, Cost = 1.2099\n",
      "Iteration 190: Accuracy = 0.6879, Cost = 1.1419\n",
      "Iteration 200: Accuracy = 0.7056, Cost = 1.0773\n",
      "Iteration 210: Accuracy = 0.7226, Cost = 1.0135\n",
      "Iteration 220: Accuracy = 0.7380, Cost = 0.9503\n",
      "Iteration 230: Accuracy = 0.7523, Cost = 0.8907\n",
      "Iteration 240: Accuracy = 0.7656, Cost = 0.8377\n"
     ]
    },
    {
     "data": {
      "text/plain": [
       "(array([[0.00616049, 0.00733598, 0.00887002, ..., 0.00632827, 0.00250802,\n",
       "         0.00694308],\n",
       "        [0.00109876, 0.00717132, 0.00286802, ..., 0.00520035, 0.0084522 ,\n",
       "         0.0021769 ],\n",
       "        [0.00209089, 0.00057212, 0.00918138, ..., 0.00115385, 0.0030072 ,\n",
       "         0.00691877],\n",
       "        ...,\n",
       "        [0.00319624, 0.00606154, 0.00455201, ..., 0.00891039, 0.00279818,\n",
       "         0.00218595],\n",
       "        [0.00956473, 0.00207408, 0.00474076, ..., 0.00453081, 0.00281488,\n",
       "         0.00126895],\n",
       "        [0.00692158, 0.00478222, 0.00506773, ..., 0.00648505, 0.00540149,\n",
       "         0.00076267]]),\n",
       " array([[-0.01863249],\n",
       "        [ 0.08351444],\n",
       "        [-0.05029383],\n",
       "        [ 0.02749264],\n",
       "        [ 0.01705548],\n",
       "        [ 0.03033941],\n",
       "        [ 0.11893783],\n",
       "        [-0.02527034],\n",
       "        [-0.03235502],\n",
       "        [ 0.04253539]]),\n",
       " array([[-2.44967773e-01,  4.64368878e-01, -8.69753833e-02,\n",
       "          2.49066612e-01, -2.50504071e-01,  6.23606874e-01,\n",
       "         -2.28703517e-01,  1.37125906e-01,  1.20661394e-01,\n",
       "          6.53248114e-01],\n",
       "        [ 7.84619999e-02, -2.79816683e-01, -2.31051483e-01,\n",
       "         -2.28843051e-01,  6.34473228e-01, -2.20532327e-01,\n",
       "         -5.74553951e-01, -1.90913942e-01, -2.29344321e-01,\n",
       "         -1.96229699e-01],\n",
       "        [ 6.71148804e-01, -5.56343608e-02,  7.62745471e-02,\n",
       "         -2.45644268e-01,  3.63847884e-01, -2.65072351e-01,\n",
       "         -1.49483572e-01, -1.25040158e-01,  2.32118286e-01,\n",
       "          2.74924771e-01],\n",
       "        [-1.63157619e-01, -3.76838071e-01,  6.86167216e-01,\n",
       "          3.34811943e-02,  3.35086202e-01,  2.13207558e-01,\n",
       "         -5.94044582e-01,  3.51447434e-01,  5.15917385e-02,\n",
       "          1.23252704e-01],\n",
       "        [-3.06710471e-02,  3.31207995e-01, -2.31811715e-01,\n",
       "         -1.72955519e-01, -4.57133962e-01, -4.65652467e-01,\n",
       "          6.10586626e-01, -2.61448740e-01, -7.35809922e-02,\n",
       "         -2.01410128e-01],\n",
       "        [-1.66543105e-01, -2.65515506e-02,  2.01061698e-01,\n",
       "          4.35489712e-01, -5.54443266e-02,  5.86611207e-01,\n",
       "         -2.38455305e-01,  2.49798817e-01,  2.98230539e-02,\n",
       "          6.14497041e-04],\n",
       "        [ 4.98019754e-01,  8.17048358e-01, -3.92873023e-01,\n",
       "          2.88303618e-01, -3.33810515e-02, -3.03121955e-01,\n",
       "         -1.15832867e-01, -3.39728741e-01,  5.01524796e-02,\n",
       "         -1.25703827e-02],\n",
       "        [-4.62255548e-01, -4.16847789e-01, -9.05721537e-02,\n",
       "         -1.62437703e-01, -3.63155557e-01, -2.55653545e-02,\n",
       "          6.38952086e-01,  4.05524239e-02, -2.28316710e-01,\n",
       "         -3.74493876e-02],\n",
       "        [ 2.01756706e-01, -3.09910800e-01,  1.88960955e-01,\n",
       "         -2.16204442e-02,  2.52675549e-01,  1.77643854e-01,\n",
       "          2.88392503e-02,  2.64576136e-01,  2.38734261e-01,\n",
       "         -3.85864531e-01],\n",
       "        [-3.34147411e-01, -9.54044632e-02, -6.70989856e-02,\n",
       "         -1.32394544e-01, -3.60804773e-01, -2.81364133e-01,\n",
       "          6.66753324e-01, -5.16678312e-02, -1.26260277e-01,\n",
       "         -1.55286891e-01]]),\n",
       " array([[-0.85587687],\n",
       "        [ 1.25535202],\n",
       "        [-0.418225  ],\n",
       "        [-0.17737748],\n",
       "        [ 0.08053561],\n",
       "        [-0.05029262],\n",
       "        [-0.34198393],\n",
       "        [ 0.36961833],\n",
       "        [-0.07801332],\n",
       "        [ 0.21626326]]))"
      ]
     },
     "execution_count": 9,
     "metadata": {},
     "output_type": "execute_result"
    }
   ],
   "source": [
    "gradient_descent(X_train,Y_train,0.1, 250)"
   ]
  },
  {
   "cell_type": "code",
   "execution_count": null,
   "id": "3c9dd0fe",
   "metadata": {
    "papermill": {
     "duration": 0.004998,
     "end_time": "2025-07-10T06:51:48.126784",
     "exception": false,
     "start_time": "2025-07-10T06:51:48.121786",
     "status": "completed"
    },
    "tags": []
   },
   "outputs": [],
   "source": []
  },
  {
   "cell_type": "code",
   "execution_count": null,
   "id": "194d1540",
   "metadata": {
    "papermill": {
     "duration": 0.004004,
     "end_time": "2025-07-10T06:51:48.135136",
     "exception": false,
     "start_time": "2025-07-10T06:51:48.131132",
     "status": "completed"
    },
    "tags": []
   },
   "outputs": [],
   "source": []
  }
 ],
 "metadata": {
  "kaggle": {
   "accelerator": "none",
   "dataSources": [
    {
     "databundleVersionId": 861823,
     "sourceId": 3004,
     "sourceType": "competition"
    }
   ],
   "dockerImageVersionId": 31089,
   "isGpuEnabled": false,
   "isInternetEnabled": true,
   "language": "python",
   "sourceType": "notebook"
  },
  "kernelspec": {
   "display_name": "Python 3",
   "language": "python",
   "name": "python3"
  },
  "language_info": {
   "codemirror_mode": {
    "name": "ipython",
    "version": 3
   },
   "file_extension": ".py",
   "mimetype": "text/x-python",
   "name": "python",
   "nbconvert_exporter": "python",
   "pygments_lexer": "ipython3",
   "version": "3.11.13"
  },
  "papermill": {
   "default_parameters": {},
   "duration": 30.941262,
   "end_time": "2025-07-10T06:51:48.760278",
   "environment_variables": {},
   "exception": null,
   "input_path": "__notebook__.ipynb",
   "output_path": "__notebook__.ipynb",
   "parameters": {},
   "start_time": "2025-07-10T06:51:17.819016",
   "version": "2.6.0"
  }
 },
 "nbformat": 4,
 "nbformat_minor": 5
}
